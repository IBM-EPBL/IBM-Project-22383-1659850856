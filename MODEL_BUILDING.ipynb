{
  "nbformat": 4,
  "nbformat_minor": 0,
  "metadata": {
    "colab": {
      "provenance": []
    },
    "kernelspec": {
      "name": "python3",
      "display_name": "Python 3"
    },
    "language_info": {
      "name": "python"
    }
  },
  "cells": [
    {
      "cell_type": "code",
      "execution_count": null,
      "metadata": {
        "id": "Ntewbrvz36Ld"
      },
      "outputs": [],
      "source": [
        "from tensorflow.keras.preprocessing.image import ImageDataGenerator"
      ]
    },
    {
      "cell_type": "code",
      "source": [
        "train_datagen = ImageDataGenerator(rescale=1./255,zoom_range=0.2,horizontal_flip=True,vertical_flip=False)"
      ],
      "metadata": {
        "id": "Z65CzxZx4Oeb"
      },
      "execution_count": null,
      "outputs": []
    },
    {
      "cell_type": "code",
      "source": [
        "test_datagen = ImageDataGenerator(rescale=1./255)"
      ],
      "metadata": {
        "id": "stWHT7wO4SSB"
      },
      "execution_count": null,
      "outputs": []
    },
    {
      "cell_type": "code",
      "source": [
        "x_train=train_datagen.flow_from_directory(r'/content/drive/MyDrive/IBM project/Dataset/train',target_size=(64,64),class_mode='categorical',batch_size=54)"
      ],
      "metadata": {
        "colab": {
          "base_uri": "https://localhost:8080/"
        },
        "id": "P7E3_crv4YYK",
        "outputId": "736c54e6-6982-4cf7-df23-3b3ebf47192f"
      },
      "execution_count": null,
      "outputs": [
        {
          "output_type": "stream",
          "name": "stdout",
          "text": [
            "Found 594 images belonging to 6 classes.\n"
          ]
        }
      ]
    },
    {
      "cell_type": "code",
      "source": [
        "x_test=test_datagen.flow_from_directory(r'/content/drive/MyDrive/IBM project/Dataset/test',target_size=(64,64),class_mode='categorical',batch_size=5)"
      ],
      "metadata": {
        "colab": {
          "base_uri": "https://localhost:8080/"
        },
        "id": "8dWKot3L4ajO",
        "outputId": "776ba9d3-9877-4a1a-d8bc-7f73a1038df6"
      },
      "execution_count": null,
      "outputs": [
        {
          "output_type": "stream",
          "name": "stdout",
          "text": [
            "Found 30 images belonging to 6 classes.\n"
          ]
        }
      ]
    },
    {
      "cell_type": "code",
      "source": [
        " from tensorflow.keras.models import Sequential\n",
        " from tensorflow.keras.layers import Dense\n",
        " from tensorflow.keras.layers import Convolution2D,MaxPooling2D,Flatten"
      ],
      "metadata": {
        "id": "1B7SfeIy4ju5"
      },
      "execution_count": null,
      "outputs": []
    },
    {
      "cell_type": "code",
      "source": [
        "from tensorflow.keras import layers"
      ],
      "metadata": {
        "id": "klJ8YSD_5MgS"
      },
      "execution_count": null,
      "outputs": []
    },
    {
      "cell_type": "code",
      "source": [
        "model=Sequential()"
      ],
      "metadata": {
        "id": "lvaUmOPO5XUO"
      },
      "execution_count": null,
      "outputs": []
    },
    {
      "cell_type": "code",
      "source": [
        "model.add(Convolution2D(32,(3,3),input_shape=(64,64,3),activation='relu'))"
      ],
      "metadata": {
        "id": "MIVW5QlU5dJo"
      },
      "execution_count": null,
      "outputs": []
    },
    {
      "cell_type": "code",
      "source": [
        "model.add(MaxPooling2D(pool_size=(2,2)))"
      ],
      "metadata": {
        "id": "BvI-0jKW5zW6"
      },
      "execution_count": null,
      "outputs": []
    },
    {
      "cell_type": "code",
      "source": [
        "model.add(Flatten())"
      ],
      "metadata": {
        "id": "Jh67Jlqz53Kb"
      },
      "execution_count": null,
      "outputs": []
    },
    {
      "cell_type": "code",
      "source": [
        "model.add(Dense(300,activation='relu'))\n",
        "model.add(Dense(150,activation='relu'))"
      ],
      "metadata": {
        "id": "ObTaenl957XA"
      },
      "execution_count": null,
      "outputs": []
    },
    {
      "cell_type": "code",
      "source": [
        "model.add(Dense(6,activation='softmax'))"
      ],
      "metadata": {
        "id": "Du4FGbbD6C7w"
      },
      "execution_count": null,
      "outputs": []
    },
    {
      "cell_type": "code",
      "source": [
        "model.compile(loss='categorical_crossentropy',optimizer='adam',metrics=['accuracy'])"
      ],
      "metadata": {
        "id": "RErTLV396I1J"
      },
      "execution_count": null,
      "outputs": []
    },
    {
      "cell_type": "code",
      "source": [
        "len(x_train)"
      ],
      "metadata": {
        "colab": {
          "base_uri": "https://localhost:8080/"
        },
        "id": "12sLOb1B6Mlp",
        "outputId": "23bdcb13-3482-4611-e10c-036ff6d7703a"
      },
      "execution_count": null,
      "outputs": [
        {
          "output_type": "execute_result",
          "data": {
            "text/plain": [
              "11"
            ]
          },
          "metadata": {},
          "execution_count": 15
        }
      ]
    },
    {
      "cell_type": "code",
      "source": [
        "len(x_test)"
      ],
      "metadata": {
        "colab": {
          "base_uri": "https://localhost:8080/"
        },
        "id": "krL920a96QoQ",
        "outputId": "ccdba33e-987d-408a-c615-2d3eb14e3024"
      },
      "execution_count": null,
      "outputs": [
        {
          "output_type": "execute_result",
          "data": {
            "text/plain": [
              "6"
            ]
          },
          "metadata": {},
          "execution_count": 16
        }
      ]
    },
    {
      "cell_type": "code",
      "source": [
        "model.fit_generator(x_train,steps_per_epoch=len(x_train),validation_data=x_test,validation_steps=len(x_test),epochs=10)"
      ],
      "metadata": {
        "colab": {
          "base_uri": "https://localhost:8080/"
        },
        "id": "KkwO7rtO6T3s",
        "outputId": "0e599f65-cc8e-4fec-bc76-5e105a0627fe"
      },
      "execution_count": null,
      "outputs": [
        {
          "output_type": "stream",
          "name": "stderr",
          "text": [
            "/usr/local/lib/python3.7/dist-packages/ipykernel_launcher.py:1: UserWarning: `Model.fit_generator` is deprecated and will be removed in a future version. Please use `Model.fit`, which supports generators.\n",
            "  \"\"\"Entry point for launching an IPython kernel.\n"
          ]
        },
        {
          "output_type": "stream",
          "name": "stdout",
          "text": [
            "Epoch 1/10\n",
            "11/11 [==============================] - 299s 27s/step - loss: 2.9557 - accuracy: 0.1768 - val_loss: 1.7303 - val_accuracy: 0.2333\n",
            "Epoch 2/10\n",
            "11/11 [==============================] - 4s 340ms/step - loss: 1.6517 - accuracy: 0.3199 - val_loss: 1.4339 - val_accuracy: 0.4333\n",
            "Epoch 3/10\n",
            "11/11 [==============================] - 4s 340ms/step - loss: 1.3712 - accuracy: 0.5370 - val_loss: 1.1528 - val_accuracy: 0.5333\n",
            "Epoch 4/10\n",
            "11/11 [==============================] - 4s 339ms/step - loss: 1.0873 - accuracy: 0.6465 - val_loss: 0.8537 - val_accuracy: 0.7333\n",
            "Epoch 5/10\n",
            "11/11 [==============================] - 4s 342ms/step - loss: 0.8289 - accuracy: 0.7003 - val_loss: 0.7144 - val_accuracy: 0.8000\n",
            "Epoch 6/10\n",
            "11/11 [==============================] - 4s 340ms/step - loss: 0.7540 - accuracy: 0.6987 - val_loss: 0.6375 - val_accuracy: 0.7333\n",
            "Epoch 7/10\n",
            "11/11 [==============================] - 4s 342ms/step - loss: 0.6020 - accuracy: 0.7811 - val_loss: 0.5737 - val_accuracy: 0.8333\n",
            "Epoch 8/10\n",
            "11/11 [==============================] - 4s 341ms/step - loss: 0.4860 - accuracy: 0.8451 - val_loss: 0.6607 - val_accuracy: 0.7667\n",
            "Epoch 9/10\n",
            "11/11 [==============================] - 4s 343ms/step - loss: 0.4247 - accuracy: 0.8620 - val_loss: 0.4628 - val_accuracy: 0.7667\n",
            "Epoch 10/10\n",
            "11/11 [==============================] - 4s 338ms/step - loss: 0.3652 - accuracy: 0.8822 - val_loss: 0.4824 - val_accuracy: 0.7667\n"
          ]
        },
        {
          "output_type": "execute_result",
          "data": {
            "text/plain": [
              "<keras.callbacks.History at 0x7f49ba002e10>"
            ]
          },
          "metadata": {},
          "execution_count": 17
        }
      ]
    },
    {
      "cell_type": "code",
      "source": [
        "model.save('hand.h5')"
      ],
      "metadata": {
        "id": "jmdVe0YI8EQM"
      },
      "execution_count": null,
      "outputs": []
    },
    {
      "cell_type": "code",
      "source": [
        "import numpy as np\n",
        "from tensorflow.keras.models import load_model\n",
        "from tensorflow.keras.preprocessing import image"
      ],
      "metadata": {
        "id": "dRQklcSD8NHh"
      },
      "execution_count": 19,
      "outputs": []
    },
    {
      "cell_type": "code",
      "source": [
        "model=load_model('hand.h5')"
      ],
      "metadata": {
        "id": "iVSZYcE_9Gfe"
      },
      "execution_count": 20,
      "outputs": []
    },
    {
      "cell_type": "code",
      "source": [
        "img=image.load_img(r'/content/drive/MyDrive/IBM project/hand1.png')"
      ],
      "metadata": {
        "id": "D_LFgvYR9McR"
      },
      "execution_count": 21,
      "outputs": []
    },
    {
      "cell_type": "code",
      "source": [
        "img"
      ],
      "metadata": {
        "colab": {
          "base_uri": "https://localhost:8080/",
          "height": 402
        },
        "id": "srzkrhCR9XHl",
        "outputId": "88648d46-b9c0-4c2d-db59-88722c4b4505"
      },
      "execution_count": 22,
      "outputs": [
        {
          "output_type": "execute_result",
          "data": {
            "text/plain": [
              "<PIL.Image.Image image mode=RGB size=493x385 at 0x7F49B25D4490>"
            ],
            "image/png": "[encoded data removed]"
          },
          "metadata": {},
          "execution_count": 22
        }
      ]
    },
    {
      "cell_type": "code",
      "source": [
        "img=image.load_img(r'/content/drive/MyDrive/IBM project/hand1.png',target_size=(64,64))"
      ],
      "metadata": {
        "id": "cJtA8m9d9eKe"
      },
      "execution_count": 23,
      "outputs": []
    },
    {
      "cell_type": "code",
      "source": [
        "img"
      ],
      "metadata": {
        "colab": {
          "base_uri": "https://localhost:8080/",
          "height": 81
        },
        "id": "hzbPT7cV9pnq",
        "outputId": "927dd406-0b81-454e-de5e-757e03cadd1f"
      },
      "execution_count": 24,
      "outputs": [
        {
          "output_type": "execute_result",
          "data": {
            "text/plain": [
              "<PIL.Image.Image image mode=RGB size=64x64 at 0x7F49B4B19FD0>"
            ],
            "image/png": "[encoded data removed]"
          },
          "metadata": {},
          "execution_count": 24
        }
      ]
    },
    {
      "cell_type": "code",
      "source": [
        "x=image.img_to_array(img)\n",
        "x"
      ],
      "metadata": {
        "colab": {
          "base_uri": "https://localhost:8080/"
        },
        "id": "w2x5nUZT9wzT",
        "outputId": "b5bbbbe0-c76a-4fab-850e-6303bc77e199"
      },
      "execution_count": 25,
      "outputs": [
        {
          "output_type": "execute_result",
          "data": {
            "text/plain": [
              "array([[[116., 176., 167.],\n",
              "        [119., 178., 169.],\n",
              "        [120., 178., 170.],\n",
              "        ...,\n",
              "        [118., 179., 170.],\n",
              "        [118., 179., 170.],\n",
              "        [118., 179., 170.]],\n",
              "\n",
              "       [[116., 176., 167.],\n",
              "        [120., 178., 170.],\n",
              "        [120., 178., 170.],\n",
              "        ...,\n",
              "        [119., 180., 171.],\n",
              "        [118., 179., 170.],\n",
              "        [118., 179., 170.]],\n",
              "\n",
              "       [[117., 178., 168.],\n",
              "        [120., 178., 170.],\n",
              "        [120., 178., 170.],\n",
              "        ...,\n",
              "        [119., 180., 171.],\n",
              "        [119., 180., 171.],\n",
              "        [119., 180., 171.]],\n",
              "\n",
              "       ...,\n",
              "\n",
              "       [[ 99., 160., 151.],\n",
              "        [ 97., 157., 151.],\n",
              "        [ 97., 157., 151.],\n",
              "        ...,\n",
              "        [ 91., 147., 139.],\n",
              "        [ 89., 148., 139.],\n",
              "        [ 89., 148., 139.]],\n",
              "\n",
              "       [[ 97., 156., 147.],\n",
              "        [ 96., 154., 148.],\n",
              "        [ 95., 155., 148.],\n",
              "        ...,\n",
              "        [ 87., 143., 136.],\n",
              "        [ 87., 143., 136.],\n",
              "        [ 86., 145., 134.]],\n",
              "\n",
              "       [[ 92., 150., 142.],\n",
              "        [ 92., 150., 142.],\n",
              "        [ 92., 150., 142.],\n",
              "        ...,\n",
              "        [ 85., 141., 134.],\n",
              "        [ 85., 141., 134.],\n",
              "        [ 84., 140., 130.]]], dtype=float32)"
            ]
          },
          "metadata": {},
          "execution_count": 25
        }
      ]
    },
    {
      "cell_type": "code",
      "source": [
        "x=np.expand_dims(x,axis=0)\n",
        "x"
      ],
      "metadata": {
        "colab": {
          "base_uri": "https://localhost:8080/"
        },
        "id": "DPem98vy9ykn",
        "outputId": "4373503d-dad0-49cc-c3a7-166e5309fd09"
      },
      "execution_count": 26,
      "outputs": [
        {
          "output_type": "execute_result",
          "data": {
            "text/plain": [
              "array([[[[116., 176., 167.],\n",
              "         [119., 178., 169.],\n",
              "         [120., 178., 170.],\n",
              "         ...,\n",
              "         [118., 179., 170.],\n",
              "         [118., 179., 170.],\n",
              "         [118., 179., 170.]],\n",
              "\n",
              "        [[116., 176., 167.],\n",
              "         [120., 178., 170.],\n",
              "         [120., 178., 170.],\n",
              "         ...,\n",
              "         [119., 180., 171.],\n",
              "         [118., 179., 170.],\n",
              "         [118., 179., 170.]],\n",
              "\n",
              "        [[117., 178., 168.],\n",
              "         [120., 178., 170.],\n",
              "         [120., 178., 170.],\n",
              "         ...,\n",
              "         [119., 180., 171.],\n",
              "         [119., 180., 171.],\n",
              "         [119., 180., 171.]],\n",
              "\n",
              "        ...,\n",
              "\n",
              "        [[ 99., 160., 151.],\n",
              "         [ 97., 157., 151.],\n",
              "         [ 97., 157., 151.],\n",
              "         ...,\n",
              "         [ 91., 147., 139.],\n",
              "         [ 89., 148., 139.],\n",
              "         [ 89., 148., 139.]],\n",
              "\n",
              "        [[ 97., 156., 147.],\n",
              "         [ 96., 154., 148.],\n",
              "         [ 95., 155., 148.],\n",
              "         ...,\n",
              "         [ 87., 143., 136.],\n",
              "         [ 87., 143., 136.],\n",
              "         [ 86., 145., 134.]],\n",
              "\n",
              "        [[ 92., 150., 142.],\n",
              "         [ 92., 150., 142.],\n",
              "         [ 92., 150., 142.],\n",
              "         ...,\n",
              "         [ 85., 141., 134.],\n",
              "         [ 85., 141., 134.],\n",
              "         [ 84., 140., 130.]]]], dtype=float32)"
            ]
          },
          "metadata": {},
          "execution_count": 26
        }
      ]
    },
    {
      "cell_type": "code",
      "source": [
        "y=np.argmax(model.predict(x),axis=1)\n",
        "y"
      ],
      "metadata": {
        "colab": {
          "base_uri": "https://localhost:8080/"
        },
        "id": "FH0gTcNW93mn",
        "outputId": "5b65b2d8-f693-441f-e7b6-b0f9375789d0"
      },
      "execution_count": 27,
      "outputs": [
        {
          "output_type": "stream",
          "name": "stdout",
          "text": [
            "1/1 [==============================] - 0s 100ms/step\n"
          ]
        },
        {
          "output_type": "execute_result",
          "data": {
            "text/plain": [
              "array([2])"
            ]
          },
          "metadata": {},
          "execution_count": 27
        }
      ]
    },
    {
      "cell_type": "code",
      "source": [
        "x_train.class_indices"
      ],
      "metadata": {
        "colab": {
          "base_uri": "https://localhost:8080/"
        },
        "id": "MGcHwf_Y-CDo",
        "outputId": "f9d576b5-bc15-42cb-8d13-d4ac1f92df84"
      },
      "execution_count": 28,
      "outputs": [
        {
          "output_type": "execute_result",
          "data": {
            "text/plain": [
              "{'0': 0, '1': 1, '2': 2, '3': 3, '4': 4, '5': 5}"
            ]
          },
          "metadata": {},
          "execution_count": 28
        }
      ]
    }
  ]
}